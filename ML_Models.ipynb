{
  "nbformat": 4,
  "nbformat_minor": 0,
  "metadata": {
    "colab": {
      "provenance": [],
      "authorship_tag": "ABX9TyMIeWn/ORzAoVTGj+tQ5Xau",
      "include_colab_link": true
    },
    "kernelspec": {
      "name": "python3",
      "display_name": "Python 3"
    },
    "language_info": {
      "name": "python"
    }
  },
  "cells": [
    {
      "cell_type": "markdown",
      "metadata": {
        "id": "view-in-github",
        "colab_type": "text"
      },
      "source": [
        "<a href=\"https://colab.research.google.com/github/danai-coder/Customer-Churn-Analysis-Model/blob/ML_Comparisons/ML_Models.ipynb\" target=\"_parent\"><img src=\"https://colab.research.google.com/assets/colab-badge.svg\" alt=\"Open In Colab\"/></a>"
      ]
    },
    {
      "cell_type": "code",
      "execution_count": null,
      "metadata": {
        "id": "SV1HenJYe5X6"
      },
      "outputs": [],
      "source": [
        "from sklearn.model_selection import train_test_split\n",
        "import pandas as pd\n",
        "from sklearn.preprocessing import StandardScaler\n",
        "from  sklearn.linear_model import LogisticRegression\n",
        "from sklearn.metrics import accuracy_score\n",
        "from sklearn.ensemble import RandomForestClassifier\n",
        "from sklearn.svm import SVC\n",
        "from sklearn.model_selection import GridSearchCV\n",
        "from sklearn.neighbors import KNeighborsClassifier\n",
        "import warnings\n",
        "from sklearn.metrics import accuracy_score"
      ]
    },
    {
      "cell_type": "code",
      "source": [
        "# Suppress warnings\n",
        "warnings.filterwarnings(\"ignore\")"
      ],
      "metadata": {
        "id": "Fy7VD5_ie9jG"
      },
      "execution_count": null,
      "outputs": []
    },
    {
      "cell_type": "code",
      "source": [
        "def modelPerformance(predictions):\n",
        "    print(\"accuracy Score: \", accuracy_score(y_test, predictions))"
      ],
      "metadata": {
        "id": "1kQHXuUCfGJT"
      },
      "execution_count": null,
      "outputs": []
    },
    {
      "cell_type": "code",
      "source": [
        "#Load Data\n",
        "df = pd.read_csv('/content/cleaned_customer_churn_dataset.csv')\n",
        "\n",
        "# Features and target\n",
        "y = df[['Churn']]\n",
        "x = df[['Age', 'Gender', 'Tenure', 'Payment Delay', 'Subscription Type', 'Contract Length']]\n",
        "\n",
        "# Drop rows with missing values in the target variable from both x and y\n",
        "df.dropna(subset=['Churn'], inplace=True)\n",
        "y = df[['Churn']]\n",
        "x = df[['Age', 'Gender', 'Tenure', 'Payment Delay', 'Subscription Type', 'Contract Length']]"
      ],
      "metadata": {
        "id": "1rqKVisUfMJG"
      },
      "execution_count": null,
      "outputs": []
    },
    {
      "cell_type": "code",
      "source": [
        "# Encode categorical features\n",
        "x['Gender'] = x['Gender'].apply(lambda v: 1 if v == 'Male' else 0)\n",
        "x['Subscription Type'] = x['Subscription Type'].apply(lambda v: 1 if v == 'Basic' else (2 if v == 'Premium' else 0))\n",
        "x['Contract Length'] = x['Contract Length'].apply(lambda v: 1 if v == 'Monthly' else (2 if v == 'Yearly' else 0))\n",
        "\n",
        "# Train-test split\n",
        "x_train, x_test, y_train, y_test = train_test_split(x, y, test_size=0.2, random_state=42)\n",
        "#x_train, x_test, y_train, y_test = train_test_split(x, y, test_size=0.2)"
      ],
      "metadata": {
        "id": "NLxpTIQ9ffyx"
      },
      "execution_count": null,
      "outputs": []
    },
    {
      "cell_type": "code",
      "source": [
        "# Standardize features\n",
        "scaler = StandardScaler()\n",
        "x_train = scaler.fit_transform(x_train)  # Learn scale from training data and transform it\n",
        "x_test = scaler.transform(x_test)       # Apply the same scale to test data\n"
      ],
      "metadata": {
        "id": "HTYjEXy0fmWW"
      },
      "execution_count": null,
      "outputs": []
    },
    {
      "cell_type": "code",
      "source": [
        "# Dictionary to store results\n",
        "results = {}\n",
        "\n",
        "\n",
        "# Logistic Regression\n",
        "log_model = LogisticRegression()\n",
        "log_model.fit(x_train, y_train)\n",
        "predictions = log_model.predict(x_test)\n",
        "results[\"Logistic Regression\"] = accuracy_score(y_test, predictions)"
      ],
      "metadata": {
        "id": "lFMAy9tYfqRO"
      },
      "execution_count": null,
      "outputs": []
    },
    {
      "cell_type": "code",
      "source": [
        "# Random Forest\n",
        "rf = RandomForestClassifier()\n",
        "rf.fit(x_train, y_train)\n",
        "predictions = rf.predict(x_test)\n",
        "results[\"Random Forest\"] = accuracy_score(y_test, predictions)\n"
      ],
      "metadata": {
        "id": "gpdHka8FfxJs"
      },
      "execution_count": null,
      "outputs": []
    },
    {
      "cell_type": "code",
      "source": [
        "#SVC\n",
        "# SVM with GridSearchCV\n",
        "#param_grid_svm = {\"C\": [0.1, 1, 10, 100], \"kernel\": [\"linear\", \"rbf\", \"poly\"]}\n",
        "#grd_svm = GridSearchCV(SVC(), param_grid_svm, cv=5)\n",
        "#grd_svm = SVC()\n",
        "#grd_svm.fit(x_train, y_train)\n",
        "#predictions = grd_svm.predict(x_test)\n",
        "#results[\"SVM\"] = accuracy_score(y_test, predictions)\n",
        "#results[\"SVM (Best params: {})\".format(grd_svm.best_params_)] = accuracy_score(y_test, predictions)\n"
      ],
      "metadata": {
        "id": "x1oUtbAXgySR"
      },
      "execution_count": null,
      "outputs": []
    },
    {
      "cell_type": "code",
      "source": [
        "grd_svm = SVC()\n",
        "grd_svm.fit(x_train, y_train)\n",
        "predictions = grd_svm.predict(x_test)\n",
        "results[\"SVM\"] = accuracy_score(y_test, predictions)"
      ],
      "metadata": {
        "id": "GzGduvSNUh6P"
      },
      "execution_count": null,
      "outputs": []
    },
    {
      "cell_type": "code",
      "source": [
        "# KNN with GridSearchCV\n",
        "# Define the parameter grid for KNN\n",
        "#param_grid_knn = {\"n_neighbors\": [3, 5, 7, 9], \"weights\": [\"uniform\", \"distance\"]}\n",
        "# Create GridSearchCV object\n",
        "#grd_knn = GridSearchCV(KNeighborsClassifier(), param_grid_knn, cv=5)\n",
        "# Fit the model on the training data\n",
        "#grd_knn.fit(x_train, y_train.values.ravel())  # .ravel() ensures y is 1D\n",
        "# Make predictions on the test set\n",
        "#predictions = grd_knn.predict(x_test)\n",
        "# Store accuracy with a clear label in the results dictionary\n",
        "#results[f\"KNN (Best params: {grd_knn.best_params_})\"] = accuracy_score(y_test, predictions)"
      ],
      "metadata": {
        "id": "e4eGXD-eg3BZ"
      },
      "execution_count": null,
      "outputs": []
    },
    {
      "cell_type": "code",
      "source": [
        "knn = KNeighborsClassifier()\n",
        "knn.fit(x_train, y_train)\n",
        "predictions = knn.predict(x_test)\n",
        "results[\"KNN\"] = accuracy_score(y_test, predictions)"
      ],
      "metadata": {
        "id": "nf6rJhpGUl-H"
      },
      "execution_count": null,
      "outputs": []
    },
    {
      "cell_type": "code",
      "source": [
        "# Display results\n",
        "display(results)"
      ],
      "metadata": {
        "colab": {
          "base_uri": "https://localhost:8080/",
          "height": 52
        },
        "id": "Gg_B-S5qh7BK",
        "outputId": "fa7f829a-1ef8-41f0-b45d-3f34cb71e0fb"
      },
      "execution_count": null,
      "outputs": [
        {
          "output_type": "display_data",
          "data": {
            "text/plain": [
              "{'Logistic Regression': 0.7485340320074404,\n",
              " 'Random Forest': 0.8063334354123425}"
            ]
          },
          "metadata": {}
        }
      ]
    },
    {
      "cell_type": "code",
      "source": [
        "results= pd.DataFrame(list(results.items()), columns=['Model', 'Accuracy'])\n",
        "results.sort_values(by='Accuracy', ascending=False)"
      ],
      "metadata": {
        "id": "INuv-s5ghHqo"
      },
      "execution_count": null,
      "outputs": []
    },
    {
      "cell_type": "markdown",
      "source": [],
      "metadata": {
        "id": "6v3bks6Eg-yi"
      }
    },
    {
      "cell_type": "markdown",
      "source": [],
      "metadata": {
        "id": "F1KN6mpSgp-S"
      }
    }
  ]
}
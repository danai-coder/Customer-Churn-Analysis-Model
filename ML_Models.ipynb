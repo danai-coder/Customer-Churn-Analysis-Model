{
  "nbformat": 4,
  "nbformat_minor": 0,
  "metadata": {
    "colab": {
      "provenance": [],
      "authorship_tag": "ABX9TyOd/ZJ2BUvNp9HxakZPO+HZ",
      "include_colab_link": true
    },
    "kernelspec": {
      "name": "python3",
      "display_name": "Python 3"
    },
    "language_info": {
      "name": "python"
    }
  },
  "cells": [
    {
      "cell_type": "markdown",
      "metadata": {
        "id": "view-in-github",
        "colab_type": "text"
      },
      "source": [
        "<a href=\"https://colab.research.google.com/github/danai-coder/Customer-Churn-Analysis-Model/blob/ML_Comparisons/ML_Models.ipynb\" target=\"_parent\"><img src=\"https://colab.research.google.com/assets/colab-badge.svg\" alt=\"Open In Colab\"/></a>"
      ]
    },
    {
      "cell_type": "code",
      "execution_count": 1,
      "metadata": {
        "id": "SV1HenJYe5X6"
      },
      "outputs": [],
      "source": [
        "from sklearn.model_selection import train_test_split\n",
        "import pandas as pd\n",
        "from sklearn.preprocessing import StandardScaler\n",
        "from  sklearn.linear_model import LogisticRegression\n",
        "from sklearn.metrics import accuracy_score\n",
        "from sklearn.ensemble import RandomForestClassifier\n",
        "from sklearn.svm import SVC\n",
        "from sklearn.model_selection import GridSearchCV\n",
        "from sklearn.neighbors import KNeighborsClassifier\n",
        "import warnings\n",
        "from sklearn.metrics import accuracy_score\n",
        "from sklearn.svm import LinearSVC\n",
        "from sklearn.ensemble import GradientBoostingClassifier\n",
        "from sklearn.tree import DecisionTreeClassifier\n",
        "from sklearn.metrics import precision_score, recall_score, f1_score"
      ]
    },
    {
      "cell_type": "code",
      "source": [
        "# Suppress warnings\n",
        "warnings.filterwarnings(\"ignore\")"
      ],
      "metadata": {
        "id": "Fy7VD5_ie9jG"
      },
      "execution_count": 2,
      "outputs": []
    },
    {
      "cell_type": "code",
      "source": [],
      "metadata": {
        "id": "1kQHXuUCfGJT"
      },
      "execution_count": 2,
      "outputs": []
    },
    {
      "cell_type": "code",
      "source": [
        "#Load Data\n",
        "df = pd.read_csv('/content/cleaned_customer_churn_dataset.csv')\n",
        "\n",
        "# Features and target\n",
        "y = df[['Churn']]\n",
        "x = df[['Age', 'Gender', 'Tenure', 'Payment Delay', 'Subscription Type', 'Contract Length']]\n",
        "\n",
        "# Drop rows with missing values in the target variable from both x and y\n",
        "df.dropna(subset=['Churn'], inplace=True)\n",
        "y = df[['Churn']]\n",
        "x = df[['Age', 'Gender', 'Tenure', 'Payment Delay', 'Subscription Type', 'Contract Length']]"
      ],
      "metadata": {
        "id": "1rqKVisUfMJG"
      },
      "execution_count": 3,
      "outputs": []
    },
    {
      "cell_type": "code",
      "source": [
        "# Encode categorical features\n",
        "x['Gender'] = x['Gender'].apply(lambda v: 1 if v == 'Male' else 0)\n",
        "x['Subscription Type'] = x['Subscription Type'].apply(lambda v: 1 if v == 'Basic' else (2 if v == 'Premium' else 0))\n",
        "x['Contract Length'] = x['Contract Length'].apply(lambda v: 1 if v == 'Monthly' else (2 if v == 'Yearly' else 0))\n",
        "\n",
        "# Train-test split\n",
        "x_train, x_test, y_train, y_test = train_test_split(x, y, test_size=0.2, random_state=42)\n",
        "#x_train, x_test, y_train, y_test = train_test_split(x, y, test_size=0.2)"
      ],
      "metadata": {
        "id": "NLxpTIQ9ffyx"
      },
      "execution_count": 4,
      "outputs": []
    },
    {
      "cell_type": "code",
      "source": [
        "# Standardize features\n",
        "scaler = StandardScaler()\n",
        "x_train = scaler.fit_transform(x_train)  # Learn scale from training data and transform it\n",
        "x_test = scaler.transform(x_test)       # Apply the same scale to test data\n"
      ],
      "metadata": {
        "id": "HTYjEXy0fmWW"
      },
      "execution_count": 5,
      "outputs": []
    },
    {
      "cell_type": "code",
      "source": [
        "# Dictionary to store results\n",
        "results_accuracy = {}\n",
        "results_precision = {}\n",
        "results_recall = {}\n",
        "results_f1 = {}\n",
        "\n",
        "\n",
        "# Logistic Regression\n",
        "log_model = LogisticRegression()\n",
        "log_model.fit(x_train, y_train)\n",
        "predictions = log_model.predict(x_test)\n",
        "results_accuracy[\"Logistic Regression\"] = accuracy_score(y_test, predictions)\n",
        "results_precision[\"Logistic Regression\"] = precision_score(y_test, predictions)\n",
        "results_recall[\"Logistic Regression\"] = recall_score(y_test, predictions)\n",
        "results_f1[\"Logistic Regression\"] = f1_score(y_test, predictions)"
      ],
      "metadata": {
        "id": "lFMAy9tYfqRO"
      },
      "execution_count": 16,
      "outputs": []
    },
    {
      "cell_type": "code",
      "source": [
        "# Random Forest\n",
        "rf = RandomForestClassifier()\n",
        "rf.fit(x_train, y_train)\n",
        "predictions = rf.predict(x_test)\n",
        "results_accuracy[\"Random Forest\"] = accuracy_score(y_test, predictions)\n",
        "results_precision[\"Random Forest\"] = precision_score(y_test, predictions)\n",
        "results_recall[\"Random Forest\"] = recall_score(y_test, predictions)\n",
        "results_f1[\"Random Forest\"] = f1_score(y_test, predictions)\n"
      ],
      "metadata": {
        "id": "gpdHka8FfxJs"
      },
      "execution_count": 17,
      "outputs": []
    },
    {
      "cell_type": "code",
      "source": [
        "#SVC\n",
        "# SVM with GridSearchCV\n",
        "#param_grid_svm = {\"C\": [0.1, 1, 10, 100], \"kernel\": [\"linear\", \"rbf\", \"poly\"]}\n",
        "#grd_svm = GridSearchCV(SVC(), param_grid_svm, cv=5)\n",
        "#grd_svm = SVC()\n",
        "#grd_svm.fit(x_train, y_train)\n",
        "#predictions = grd_svm.predict(x_test)\n",
        "#results[\"SVM\"] = accuracy_score(y_test, predictions)\n",
        "#results[\"SVM (Best params: {})\".format(grd_svm.best_params_)] = accuracy_score(y_test, predictions)\n"
      ],
      "metadata": {
        "id": "x1oUtbAXgySR"
      },
      "execution_count": 8,
      "outputs": []
    },
    {
      "cell_type": "code",
      "source": [
        "# KNN with GridSearchCV\n",
        "# Define the parameter grid for KNN\n",
        "#param_grid_knn = {\"n_neighbors\": [3, 5, 7, 9], \"weights\": [\"uniform\", \"distance\"]}\n",
        "# Create GridSearchCV object\n",
        "#grd_knn = GridSearchCV(KNeighborsClassifier(), param_grid_knn, cv=5)\n",
        "# Fit the model on the training data\n",
        "#grd_knn.fit(x_train, y_train.values.ravel())  # .ravel() ensures y is 1D\n",
        "# Make predictions on the test set\n",
        "#predictions = grd_knn.predict(x_test)\n",
        "# Store accuracy with a clear label in the results dictionary\n",
        "#results[f\"KNN (Best params: {grd_knn.best_params_})\"] = accuracy_score(y_test, predictions)"
      ],
      "metadata": {
        "id": "e4eGXD-eg3BZ"
      },
      "execution_count": 9,
      "outputs": []
    },
    {
      "cell_type": "code",
      "source": [
        "Dt = DecisionTreeClassifier()\n",
        "Dt.fit(x_train, y_train)\n",
        "predictions = Dt.predict(x_test)\n",
        "results_accuracy[\"Decision Tree\"] = accuracy_score(y_test, predictions)\n",
        "results_precision[\"Decision Tree\"] = precision_score(y_test, predictions)\n",
        "results_recall[\"Decision Tree\"] = recall_score(y_test, predictions)\n",
        "results_f1[\"Decision Tree\"] = f1_score(y_test, predictions)"
      ],
      "metadata": {
        "id": "nf6rJhpGUl-H"
      },
      "execution_count": 18,
      "outputs": []
    },
    {
      "cell_type": "code",
      "source": [
        "Gb = GradientBoostingClassifier()\n",
        "Gb.fit(x_train, y_train)\n",
        "predictions = Gb.predict(x_test)\n",
        "results_accuracy[\"Gradient Boosting\"] = accuracy_score(y_test, predictions)\n",
        "results_precision[\"Gradient Boosting\"] = precision_score(y_test, predictions)\n",
        "results_recall[\"Gradient Boosting\"] = recall_score(y_test, predictions)\n",
        "results_f1[\"Gradient Boosting\"] = f1_score(y_test, predictions)\n"
      ],
      "metadata": {
        "id": "DGCmfEmWmcYc"
      },
      "execution_count": 19,
      "outputs": []
    },
    {
      "cell_type": "code",
      "source": [
        "x_train_scaled = scaler.fit_transform(x_train)\n",
        "x_test_scaled = scaler.transform(x_test)\n",
        "\n",
        "# 2. Fast Linear SVM\n",
        "linear_svm = LinearSVC(max_iter=10000, random_state=42)\n",
        "linear_svm.fit(x_train_scaled, y_train)\n",
        "pred_svm = linear_svm.predict(x_test_scaled)\n",
        "results_accuracy[\"LinearSVM\"] = accuracy_score(y_test, pred_svm)\n",
        "results_precision[\"LinearSVM\"] = precision_score(y_test, pred_svm)\n",
        "results_recall[\"LinearSVM\"] = recall_score(y_test, pred_svm)\n",
        "results_f1[\"LinearSVM\"] = f1_score(y_test, pred_svm)\n"
      ],
      "metadata": {
        "id": "GzGduvSNUh6P"
      },
      "execution_count": 20,
      "outputs": []
    },
    {
      "cell_type": "code",
      "source": [
        "# 3. Fast KNN with KD-tree\n",
        "knn = KNeighborsClassifier(n_neighbors=5, algorithm='kd_tree', n_jobs=-1)  # n_jobs=-1 uses all CPU cores\n",
        "knn.fit(x_train_scaled, y_train)\n",
        "pred_knn = knn.predict(x_test_scaled)\n",
        "results_accuracy[\"KNN\"] = accuracy_score(y_test, pred_knn)\n",
        "results_precision[\"KNN\"] = precision_score(y_test, pred_knn)\n",
        "results_recall[\"KNN\"] = recall_score(y_test, pred_knn)\n",
        "results_f1[\"KNN\"] = f1_score(y_test, pred_knn)"
      ],
      "metadata": {
        "id": "isMC6JYcltKk"
      },
      "execution_count": 21,
      "outputs": []
    },
    {
      "cell_type": "code",
      "source": [
        "# Display results\n",
        "display(results_accuracy)\n",
        "display(results_precision)\n",
        "display(results_recall)\n",
        "display(results_f1)"
      ],
      "metadata": {
        "colab": {
          "base_uri": "https://localhost:8080/",
          "height": 434
        },
        "id": "Gg_B-S5qh7BK",
        "outputId": "50360cd3-8b3b-4f0f-ea05-5188bf6412cf"
      },
      "execution_count": 22,
      "outputs": [
        {
          "output_type": "display_data",
          "data": {
            "text/plain": [
              "{'Logistic Regression': 0.7485340320074404,\n",
              " 'Random Forest': 0.8065035670942643,\n",
              " 'Decision Tree': 0.7986321412773487,\n",
              " 'Gradient Boosting': 0.8461442489820454,\n",
              " 'LinearSVM': 0.7492599271836401,\n",
              " 'KNN': 0.8155659146846326}"
            ]
          },
          "metadata": {}
        },
        {
          "output_type": "display_data",
          "data": {
            "text/plain": [
              "{'Logistic Regression': 0.8013203598627862,\n",
              " 'Random Forest': 0.8575880876114622,\n",
              " 'Decision Tree': 0.8413167334880777,\n",
              " 'Gradient Boosting': 0.9781465099845587,\n",
              " 'LinearSVM': 0.8042027946193798,\n",
              " 'KNN': 0.8891162876261871}"
            ]
          },
          "metadata": {}
        },
        {
          "output_type": "display_data",
          "data": {
            "text/plain": [
              "{'Logistic Regression': 0.7412980999520996,\n",
              " 'Random Forest': 0.7908350630688169,\n",
              " 'Decision Tree': 0.7957448507105221,\n",
              " 'Gradient Boosting': 0.7459284687849274,\n",
              " 'LinearSVM': 0.7386037042950663,\n",
              " 'KNN': 0.7716948746607057}"
            ]
          },
          "metadata": {}
        },
        {
          "output_type": "display_data",
          "data": {
            "text/plain": [
              "{'Logistic Regression': 0.770141516769478,\n",
              " 'Random Forest': 0.822859990862649,\n",
              " 'Decision Tree': 0.8178964859375961,\n",
              " 'Gradient Boosting': 0.8463986049618969,\n",
              " 'LinearSVM': 0.7700086349496988,\n",
              " 'KNN': 0.8262546612387943}"
            ]
          },
          "metadata": {}
        }
      ]
    },
    {
      "cell_type": "markdown",
      "source": [
        "A data frame showing the comparison between different ML models"
      ],
      "metadata": {
        "id": "JPQvG-bgYIPg"
      }
    },
    {
      "cell_type": "code",
      "source": [
        "results_df = pd.DataFrame({\"Accuracy\": results_accuracy, \"Precision\": results_precision, \"Recall\": results_recall, \"F1 Score\": results_f1})\n",
        "results_df.T.round(2)\n"
      ],
      "metadata": {
        "id": "tvIJzXtdS7oJ",
        "outputId": "05a300de-86b4-4402-8edc-04b9db71964a",
        "colab": {
          "base_uri": "https://localhost:8080/",
          "height": 175
        }
      },
      "execution_count": 33,
      "outputs": [
        {
          "output_type": "execute_result",
          "data": {
            "text/plain": [
              "           Logistic Regression  Random Forest  ...  LinearSVM   KNN\n",
              "Accuracy                  0.75           0.81  ...       0.75  0.82\n",
              "Precision                 0.80           0.86  ...       0.80  0.89\n",
              "Recall                    0.74           0.79  ...       0.74  0.77\n",
              "F1 Score                  0.77           0.82  ...       0.77  0.83\n",
              "\n",
              "[4 rows x 6 columns]"
            ],
            "text/html": [
              "\n",
              "  <div id=\"df-9532ab32-b6e0-4de3-a6f8-c0827b01e559\" class=\"colab-df-container\">\n",
              "    <div>\n",
              "<style scoped>\n",
              "    .dataframe tbody tr th:only-of-type {\n",
              "        vertical-align: middle;\n",
              "    }\n",
              "\n",
              "    .dataframe tbody tr th {\n",
              "        vertical-align: top;\n",
              "    }\n",
              "\n",
              "    .dataframe thead th {\n",
              "        text-align: right;\n",
              "    }\n",
              "</style>\n",
              "<table border=\"1\" class=\"dataframe\">\n",
              "  <thead>\n",
              "    <tr style=\"text-align: right;\">\n",
              "      <th></th>\n",
              "      <th>Logistic Regression</th>\n",
              "      <th>Random Forest</th>\n",
              "      <th>Decision Tree</th>\n",
              "      <th>Gradient Boosting</th>\n",
              "      <th>LinearSVM</th>\n",
              "      <th>KNN</th>\n",
              "    </tr>\n",
              "  </thead>\n",
              "  <tbody>\n",
              "    <tr>\n",
              "      <th>Accuracy</th>\n",
              "      <td>0.75</td>\n",
              "      <td>0.81</td>\n",
              "      <td>0.80</td>\n",
              "      <td>0.85</td>\n",
              "      <td>0.75</td>\n",
              "      <td>0.82</td>\n",
              "    </tr>\n",
              "    <tr>\n",
              "      <th>Precision</th>\n",
              "      <td>0.80</td>\n",
              "      <td>0.86</td>\n",
              "      <td>0.84</td>\n",
              "      <td>0.98</td>\n",
              "      <td>0.80</td>\n",
              "      <td>0.89</td>\n",
              "    </tr>\n",
              "    <tr>\n",
              "      <th>Recall</th>\n",
              "      <td>0.74</td>\n",
              "      <td>0.79</td>\n",
              "      <td>0.80</td>\n",
              "      <td>0.75</td>\n",
              "      <td>0.74</td>\n",
              "      <td>0.77</td>\n",
              "    </tr>\n",
              "    <tr>\n",
              "      <th>F1 Score</th>\n",
              "      <td>0.77</td>\n",
              "      <td>0.82</td>\n",
              "      <td>0.82</td>\n",
              "      <td>0.85</td>\n",
              "      <td>0.77</td>\n",
              "      <td>0.83</td>\n",
              "    </tr>\n",
              "  </tbody>\n",
              "</table>\n",
              "</div>\n",
              "    <div class=\"colab-df-buttons\">\n",
              "\n",
              "  <div class=\"colab-df-container\">\n",
              "    <button class=\"colab-df-convert\" onclick=\"convertToInteractive('df-9532ab32-b6e0-4de3-a6f8-c0827b01e559')\"\n",
              "            title=\"Convert this dataframe to an interactive table.\"\n",
              "            style=\"display:none;\">\n",
              "\n",
              "  <svg xmlns=\"http://www.w3.org/2000/svg\" height=\"24px\" viewBox=\"0 -960 960 960\">\n",
              "    <path d=\"M120-120v-720h720v720H120Zm60-500h600v-160H180v160Zm220 220h160v-160H400v160Zm0 220h160v-160H400v160ZM180-400h160v-160H180v160Zm440 0h160v-160H620v160ZM180-180h160v-160H180v160Zm440 0h160v-160H620v160Z\"/>\n",
              "  </svg>\n",
              "    </button>\n",
              "\n",
              "  <style>\n",
              "    .colab-df-container {\n",
              "      display:flex;\n",
              "      gap: 12px;\n",
              "    }\n",
              "\n",
              "    .colab-df-convert {\n",
              "      background-color: #E8F0FE;\n",
              "      border: none;\n",
              "      border-radius: 50%;\n",
              "      cursor: pointer;\n",
              "      display: none;\n",
              "      fill: #1967D2;\n",
              "      height: 32px;\n",
              "      padding: 0 0 0 0;\n",
              "      width: 32px;\n",
              "    }\n",
              "\n",
              "    .colab-df-convert:hover {\n",
              "      background-color: #E2EBFA;\n",
              "      box-shadow: 0px 1px 2px rgba(60, 64, 67, 0.3), 0px 1px 3px 1px rgba(60, 64, 67, 0.15);\n",
              "      fill: #174EA6;\n",
              "    }\n",
              "\n",
              "    .colab-df-buttons div {\n",
              "      margin-bottom: 4px;\n",
              "    }\n",
              "\n",
              "    [theme=dark] .colab-df-convert {\n",
              "      background-color: #3B4455;\n",
              "      fill: #D2E3FC;\n",
              "    }\n",
              "\n",
              "    [theme=dark] .colab-df-convert:hover {\n",
              "      background-color: #434B5C;\n",
              "      box-shadow: 0px 1px 3px 1px rgba(0, 0, 0, 0.15);\n",
              "      filter: drop-shadow(0px 1px 2px rgba(0, 0, 0, 0.3));\n",
              "      fill: #FFFFFF;\n",
              "    }\n",
              "  </style>\n",
              "\n",
              "    <script>\n",
              "      const buttonEl =\n",
              "        document.querySelector('#df-9532ab32-b6e0-4de3-a6f8-c0827b01e559 button.colab-df-convert');\n",
              "      buttonEl.style.display =\n",
              "        google.colab.kernel.accessAllowed ? 'block' : 'none';\n",
              "\n",
              "      async function convertToInteractive(key) {\n",
              "        const element = document.querySelector('#df-9532ab32-b6e0-4de3-a6f8-c0827b01e559');\n",
              "        const dataTable =\n",
              "          await google.colab.kernel.invokeFunction('convertToInteractive',\n",
              "                                                    [key], {});\n",
              "        if (!dataTable) return;\n",
              "\n",
              "        const docLinkHtml = 'Like what you see? Visit the ' +\n",
              "          '<a target=\"_blank\" href=https://colab.research.google.com/notebooks/data_table.ipynb>data table notebook</a>'\n",
              "          + ' to learn more about interactive tables.';\n",
              "        element.innerHTML = '';\n",
              "        dataTable['output_type'] = 'display_data';\n",
              "        await google.colab.output.renderOutput(dataTable, element);\n",
              "        const docLink = document.createElement('div');\n",
              "        docLink.innerHTML = docLinkHtml;\n",
              "        element.appendChild(docLink);\n",
              "      }\n",
              "    </script>\n",
              "  </div>\n",
              "\n",
              "\n",
              "    <div id=\"df-36975bd9-a297-4020-9146-a9e24319f945\">\n",
              "      <button class=\"colab-df-quickchart\" onclick=\"quickchart('df-36975bd9-a297-4020-9146-a9e24319f945')\"\n",
              "                title=\"Suggest charts\"\n",
              "                style=\"display:none;\">\n",
              "\n",
              "<svg xmlns=\"http://www.w3.org/2000/svg\" height=\"24px\"viewBox=\"0 0 24 24\"\n",
              "     width=\"24px\">\n",
              "    <g>\n",
              "        <path d=\"M19 3H5c-1.1 0-2 .9-2 2v14c0 1.1.9 2 2 2h14c1.1 0 2-.9 2-2V5c0-1.1-.9-2-2-2zM9 17H7v-7h2v7zm4 0h-2V7h2v10zm4 0h-2v-4h2v4z\"/>\n",
              "    </g>\n",
              "</svg>\n",
              "      </button>\n",
              "\n",
              "<style>\n",
              "  .colab-df-quickchart {\n",
              "      --bg-color: #E8F0FE;\n",
              "      --fill-color: #1967D2;\n",
              "      --hover-bg-color: #E2EBFA;\n",
              "      --hover-fill-color: #174EA6;\n",
              "      --disabled-fill-color: #AAA;\n",
              "      --disabled-bg-color: #DDD;\n",
              "  }\n",
              "\n",
              "  [theme=dark] .colab-df-quickchart {\n",
              "      --bg-color: #3B4455;\n",
              "      --fill-color: #D2E3FC;\n",
              "      --hover-bg-color: #434B5C;\n",
              "      --hover-fill-color: #FFFFFF;\n",
              "      --disabled-bg-color: #3B4455;\n",
              "      --disabled-fill-color: #666;\n",
              "  }\n",
              "\n",
              "  .colab-df-quickchart {\n",
              "    background-color: var(--bg-color);\n",
              "    border: none;\n",
              "    border-radius: 50%;\n",
              "    cursor: pointer;\n",
              "    display: none;\n",
              "    fill: var(--fill-color);\n",
              "    height: 32px;\n",
              "    padding: 0;\n",
              "    width: 32px;\n",
              "  }\n",
              "\n",
              "  .colab-df-quickchart:hover {\n",
              "    background-color: var(--hover-bg-color);\n",
              "    box-shadow: 0 1px 2px rgba(60, 64, 67, 0.3), 0 1px 3px 1px rgba(60, 64, 67, 0.15);\n",
              "    fill: var(--button-hover-fill-color);\n",
              "  }\n",
              "\n",
              "  .colab-df-quickchart-complete:disabled,\n",
              "  .colab-df-quickchart-complete:disabled:hover {\n",
              "    background-color: var(--disabled-bg-color);\n",
              "    fill: var(--disabled-fill-color);\n",
              "    box-shadow: none;\n",
              "  }\n",
              "\n",
              "  .colab-df-spinner {\n",
              "    border: 2px solid var(--fill-color);\n",
              "    border-color: transparent;\n",
              "    border-bottom-color: var(--fill-color);\n",
              "    animation:\n",
              "      spin 1s steps(1) infinite;\n",
              "  }\n",
              "\n",
              "  @keyframes spin {\n",
              "    0% {\n",
              "      border-color: transparent;\n",
              "      border-bottom-color: var(--fill-color);\n",
              "      border-left-color: var(--fill-color);\n",
              "    }\n",
              "    20% {\n",
              "      border-color: transparent;\n",
              "      border-left-color: var(--fill-color);\n",
              "      border-top-color: var(--fill-color);\n",
              "    }\n",
              "    30% {\n",
              "      border-color: transparent;\n",
              "      border-left-color: var(--fill-color);\n",
              "      border-top-color: var(--fill-color);\n",
              "      border-right-color: var(--fill-color);\n",
              "    }\n",
              "    40% {\n",
              "      border-color: transparent;\n",
              "      border-right-color: var(--fill-color);\n",
              "      border-top-color: var(--fill-color);\n",
              "    }\n",
              "    60% {\n",
              "      border-color: transparent;\n",
              "      border-right-color: var(--fill-color);\n",
              "    }\n",
              "    80% {\n",
              "      border-color: transparent;\n",
              "      border-right-color: var(--fill-color);\n",
              "      border-bottom-color: var(--fill-color);\n",
              "    }\n",
              "    90% {\n",
              "      border-color: transparent;\n",
              "      border-bottom-color: var(--fill-color);\n",
              "    }\n",
              "  }\n",
              "</style>\n",
              "\n",
              "      <script>\n",
              "        async function quickchart(key) {\n",
              "          const quickchartButtonEl =\n",
              "            document.querySelector('#' + key + ' button');\n",
              "          quickchartButtonEl.disabled = true;  // To prevent multiple clicks.\n",
              "          quickchartButtonEl.classList.add('colab-df-spinner');\n",
              "          try {\n",
              "            const charts = await google.colab.kernel.invokeFunction(\n",
              "                'suggestCharts', [key], {});\n",
              "          } catch (error) {\n",
              "            console.error('Error during call to suggestCharts:', error);\n",
              "          }\n",
              "          quickchartButtonEl.classList.remove('colab-df-spinner');\n",
              "          quickchartButtonEl.classList.add('colab-df-quickchart-complete');\n",
              "        }\n",
              "        (() => {\n",
              "          let quickchartButtonEl =\n",
              "            document.querySelector('#df-36975bd9-a297-4020-9146-a9e24319f945 button');\n",
              "          quickchartButtonEl.style.display =\n",
              "            google.colab.kernel.accessAllowed ? 'block' : 'none';\n",
              "        })();\n",
              "      </script>\n",
              "    </div>\n",
              "\n",
              "    </div>\n",
              "  </div>\n"
            ],
            "application/vnd.google.colaboratory.intrinsic+json": {
              "type": "dataframe",
              "summary": "{\n  \"name\": \"results_df\",\n  \"rows\": 4,\n  \"fields\": [\n    {\n      \"column\": \"Logistic Regression\",\n      \"properties\": {\n        \"dtype\": \"number\",\n        \"std\": 0.026457513110645925,\n        \"min\": 0.74,\n        \"max\": 0.8,\n        \"num_unique_values\": 4,\n        \"samples\": [\n          0.8,\n          0.77,\n          0.75\n        ],\n        \"semantic_type\": \"\",\n        \"description\": \"\"\n      }\n    },\n    {\n      \"column\": \"Random Forest\",\n      \"properties\": {\n        \"dtype\": \"number\",\n        \"std\": 0.029439202887759464,\n        \"min\": 0.79,\n        \"max\": 0.86,\n        \"num_unique_values\": 4,\n        \"samples\": [\n          0.86,\n          0.82,\n          0.81\n        ],\n        \"semantic_type\": \"\",\n        \"description\": \"\"\n      }\n    },\n    {\n      \"column\": \"Decision Tree\",\n      \"properties\": {\n        \"dtype\": \"number\",\n        \"std\": 0.01914854215512672,\n        \"min\": 0.8,\n        \"max\": 0.84,\n        \"num_unique_values\": 3,\n        \"samples\": [\n          0.8,\n          0.84,\n          0.82\n        ],\n        \"semantic_type\": \"\",\n        \"description\": \"\"\n      }\n    },\n    {\n      \"column\": \"Gradient Boosting\",\n      \"properties\": {\n        \"dtype\": \"number\",\n        \"std\": 0.0942956343987709,\n        \"min\": 0.75,\n        \"max\": 0.98,\n        \"num_unique_values\": 3,\n        \"samples\": [\n          0.85,\n          0.98,\n          0.75\n        ],\n        \"semantic_type\": \"\",\n        \"description\": \"\"\n      }\n    },\n    {\n      \"column\": \"LinearSVM\",\n      \"properties\": {\n        \"dtype\": \"number\",\n        \"std\": 0.026457513110645925,\n        \"min\": 0.74,\n        \"max\": 0.8,\n        \"num_unique_values\": 4,\n        \"samples\": [\n          0.8,\n          0.77,\n          0.75\n        ],\n        \"semantic_type\": \"\",\n        \"description\": \"\"\n      }\n    },\n    {\n      \"column\": \"KNN\",\n      \"properties\": {\n        \"dtype\": \"number\",\n        \"std\": 0.04924428900898052,\n        \"min\": 0.77,\n        \"max\": 0.89,\n        \"num_unique_values\": 4,\n        \"samples\": [\n          0.89,\n          0.83,\n          0.82\n        ],\n        \"semantic_type\": \"\",\n        \"description\": \"\"\n      }\n    }\n  ]\n}"
            }
          },
          "metadata": {},
          "execution_count": 33
        }
      ]
    },
    {
      "cell_type": "markdown",
      "source": [],
      "metadata": {
        "id": "F1KN6mpSgp-S"
      }
    }
  ]
}